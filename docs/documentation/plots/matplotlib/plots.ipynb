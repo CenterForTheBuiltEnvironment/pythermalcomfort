{
 "cells": [
  {
   "cell_type": "markdown",
   "id": "220a8900eb6aa615",
   "metadata": {},
   "source": [
    "# Matplotlib backend\n",
    "\n",
    "## Ranges\n",
    "\n",
    "### Operative Temperature vs Relative Humidity\n",
    "\n",
    "This plot shows the comfort ranges for different thermal indices as a function of operative temperature and relative humidity."
   ]
  },
  {
   "cell_type": "code",
   "execution_count": null,
   "id": "6f979f110a62db3a",
   "metadata": {},
   "outputs": [],
   "source": [
    "import matplotlib.pyplot as plt\n",
    "\n",
    "from pythermalcomfort.models import pmv_ppd_iso\n",
    "from pythermalcomfort.plots.matplotlib import ranges_to_rh\n",
    "\n",
    "ax, _ = ranges_to_rh(\n",
    "    model_func=pmv_ppd_iso,\n",
    "    fixed_params={\"met\": 1.2, \"clo\": 0.5, \"vr\": 0.1, \"wme\": 0.0},\n",
    "    thresholds=[-0.5, 0.5],\n",
    "    t_range=(10, 36),\n",
    "    rh_range=(0, 100),\n",
    ")\n",
    "plt.show()"
   ]
  },
  {
   "cell_type": "markdown",
   "id": "dd4c10239b1db773",
   "metadata": {},
   "source": [
    "#### Customization - Look\n",
    "\n",
    "The plot can be customized by changing the parameters passed to the `ranges_to_rh` function.\n",
    "The `plot_kwargs` parameter allows users to customize the appearance of the plot by passing additional arguments to the Matplotlib plotting functions."
   ]
  },
  {
   "cell_type": "code",
   "execution_count": null,
   "id": "6537f092d5ca29e1",
   "metadata": {},
   "outputs": [],
   "source": [
    "from pythermalcomfort.plots.matplotlib import ranges_to_rh\n",
    "\n",
    "ax, _ = ranges_to_rh(\n",
    "    model_func=pmv_ppd_iso,\n",
    "    fixed_params={\"met\": 1.2, \"clo\": 0.5, \"vr\": 0.1, \"wme\": 0.0},\n",
    "    thresholds=[-0.5, 0.5],\n",
    "    t_range=(10, 36),\n",
    "    rh_range=(0, 100),\n",
    "    plot_kwargs={\"cmap\": \"viridis\", \"band_alpha\": 0.6},\n",
    ")\n",
    "plt.show()"
   ]
  },
  {
   "cell_type": "markdown",
   "id": "e3b8968235ff341b",
   "metadata": {},
   "source": [
    "#### Customization - Change the model\n",
    "\n",
    "The user is not limited to plot the PMV model, any model with operative temperature and RH as inputs can be used."
   ]
  },
  {
   "cell_type": "code",
   "execution_count": null,
   "id": "da4314d24f978dce",
   "metadata": {},
   "outputs": [],
   "source": [
    "from pythermalcomfort.models import utci\n",
    "from pythermalcomfort.plots.matplotlib import ranges_to_rh\n",
    "\n",
    "ax, _ = ranges_to_rh(\n",
    "    model_func=utci,\n",
    "    fixed_params={\n",
    "        \"v\": 0.1,\n",
    "    },\n",
    "    thresholds=[26, 32, 38, 46],  # UTCI risk categories\n",
    "    t_range=(10, 50),\n",
    "    rh_range=(0, 100),\n",
    "    plot_kwargs={\"cmap\": \"plasma\", \"band_alpha\": 0.7},\n",
    ")\n",
    "plt.show()"
   ]
  },
  {
   "cell_type": "markdown",
   "id": "8aaf68267b3dbb1a",
   "metadata": {},
   "source": [
    "#### Add Scatter Data"
   ]
  },
  {
   "cell_type": "code",
   "execution_count": null,
   "id": "639384d0df4db3ee",
   "metadata": {},
   "outputs": [],
   "source": [
    "import numpy as np\n",
    "\n",
    "from pythermalcomfort.plots.matplotlib import ranges_to_rh\n",
    "\n",
    "# create some synthetic data to plot as a scatter plot\n",
    "ax, _ = ranges_to_rh(\n",
    "    model_func=pmv_ppd_iso,\n",
    "    fixed_params={\"met\": 1.2, \"clo\": 0.5, \"vr\": 0.1, \"wme\": 0.0},\n",
    "    thresholds=[-0.5, 0.5],\n",
    "    t_range=(10, 36),\n",
    "    rh_range=(0, 100),\n",
    "    # plot_kwargs={\"cmap\": \"viridis\", \"band_alpha\": 0.3, \"line_color\": \"k\"},\n",
    ")\n",
    "np.random.seed(0)\n",
    "t_data = np.random.uniform(10, 36, size=100)\n",
    "rh_data = np.random.uniform(0, 100, size=100)\n",
    "sc = ax.scatter(t_data, rh_data, c=\"black\", s=10)\n",
    "plt.show()"
   ]
  },
  {
   "cell_type": "markdown",
   "id": "151558c8914a8aa8",
   "metadata": {},
   "source": [
    "#### Compute and Plot Distribution of Comfort Levels"
   ]
  },
  {
   "cell_type": "code",
   "execution_count": null,
   "id": "cddb5f1c4dc6c30",
   "metadata": {},
   "outputs": [],
   "source": [
    "import matplotlib as mpl\n",
    "from matplotlib.gridspec import GridSpec\n",
    "\n",
    "from pythermalcomfort.plots.matplotlib import ranges_to_rh\n",
    "\n",
    "# Generate synthetic data\n",
    "np.random.seed(0)\n",
    "t_data = np.random.uniform(10, 36, size=100)\n",
    "rh_data = np.random.uniform(0, 100, size=100)\n",
    "\n",
    "# Compute PMV for each point\n",
    "pmv_values = np.array(\n",
    "    [\n",
    "        pmv_ppd_iso(\n",
    "            tdb=t,\n",
    "            tr=30,\n",
    "            rh=rh,\n",
    "            met=1.2,\n",
    "            clo=0.5,\n",
    "            vr=0.1,\n",
    "            wme=0.0,\n",
    "            limit_inputs=False,\n",
    "        )[\"pmv\"]\n",
    "        for t, rh in zip(t_data, rh_data, strict=False)\n",
    "    ]\n",
    ")\n",
    "\n",
    "# Bin PMV values\n",
    "bins = [-np.inf, -0.5, 0.5, np.inf]\n",
    "labels = [\"PMV < -0.5\", \"-0.5 ≤ PMV ≤ 0.5\", \"PMV > 0.5\"]\n",
    "pmv_bin_indices = np.digitize(pmv_values, bins) - 1\n",
    "counts = np.bincount(pmv_bin_indices, minlength=3)\n",
    "percentages = 100 * counts / counts.sum()\n",
    "\n",
    "# Create figure with custom width ratios\n",
    "fig = plt.figure()\n",
    "gs = GridSpec(1, 2, width_ratios=[9, 1], wspace=0.05)\n",
    "\n",
    "# Left: Comfort region + scatter\n",
    "ax0 = fig.add_subplot(gs[0, 0])\n",
    "ranges_to_rh(\n",
    "    model_func=pmv_ppd_iso,\n",
    "    fixed_params={\"met\": 1.2, \"clo\": 0.5, \"vr\": 0.1, \"wme\": 0.0},\n",
    "    thresholds=[-0.5, 0.5],\n",
    "    t_range=(10, 36),\n",
    "    rh_range=(0, 100),\n",
    "    ax=ax0,\n",
    "    plot_kwargs={\"band_alpha\": 0.5},\n",
    ")\n",
    "sc = ax0.scatter(t_data, rh_data, c=\"black\", s=10, label=\"Data Points\")\n",
    "ax0.grid(axis=\"both\", linestyle=\":\", alpha=0.5)\n",
    "ax0.set(xlim=(10, 36), ylim=(0, 100))\n",
    "\n",
    "# Number of bins (bands)\n",
    "n_bands = 3\n",
    "# Use the same colormap as ranges_tdb_rh (default is often 'RdYlBu')\n",
    "cmap = mpl.colormaps[\"coolwarm\"].resampled(n_bands)\n",
    "band_colors = [cmap(i) for i in range(n_bands)]\n",
    "\n",
    "# Right: Cumulative bar plot\n",
    "ax1 = fig.add_subplot(gs[0, 1])\n",
    "bottom = 0\n",
    "for percentage, color in zip(percentages, band_colors, strict=False):\n",
    "    ax1.bar(\"count\", percentage, bottom=bottom, alpha=0.5, color=color)\n",
    "    bottom += percentage\n",
    "ax1.set_ylim(0, 100)\n",
    "ax1.set_ylabel(\"PMV distribution (%)\")\n",
    "ax1.yaxis.tick_right()\n",
    "ax1.yaxis.set_label_position(\"right\")\n",
    "ax1.grid(\"\")\n",
    "for spine in ax1.spines.values():\n",
    "    spine.set_visible(False)\n",
    "\n",
    "plt.show()"
   ]
  },
  {
   "cell_type": "markdown",
   "id": "fb43d40b0aa44a83",
   "metadata": {},
   "source": [
    "### Dry Bulb Temperature vs Relative Humidity\n",
    "\n",
    "This plot shows the comfort ranges for different thermal indices as a function of dry bulb temperature and relative humidity.\n",
    "\n",
    "```{admonition} Chart interpretation!\n",
    "Please note that this plot is hard to interpret and might be misleading, as it keeps the mean radiant temperature constant.\n",
    "It is recommended to use operative temperature instead of dry bulb temperature.\n",
    "```"
   ]
  },
  {
   "cell_type": "code",
   "execution_count": null,
   "id": "a4ef0446c8a1ff97",
   "metadata": {},
   "outputs": [],
   "source": [
    "import matplotlib.pyplot as plt\n",
    "\n",
    "from pythermalcomfort.models import pmv_ppd_iso\n",
    "from pythermalcomfort.plots.matplotlib import ranges_tdb_rh\n",
    "\n",
    "ax, _ = ranges_tdb_rh(\n",
    "    model_func=pmv_ppd_iso,\n",
    "    fixed_params={\"tr\": 30, \"met\": 1.2, \"clo\": 0.5, \"vr\": 0.1, \"wme\": 0.0},\n",
    "    thresholds=[-0.5, 0.5],\n",
    "    t_range=(10, 36),\n",
    "    rh_range=(0, 100),\n",
    ")\n",
    "plt.show()"
   ]
  },
  {
   "cell_type": "markdown",
   "id": "b1e65c29f2c77726",
   "metadata": {},
   "source": [
    "### Psychrometric Chart"
   ]
  },
  {
   "cell_type": "code",
   "execution_count": null,
   "id": "ef90393808483f9e",
   "metadata": {},
   "outputs": [],
   "source": [
    "import matplotlib.pyplot as plt\n",
    "\n",
    "from pythermalcomfort.models import pmv_ppd_iso\n",
    "from pythermalcomfort.plots.matplotlib import ranges_psychrometric\n",
    "\n",
    "ax, _ = ranges_psychrometric(\n",
    "    model_func=pmv_ppd_iso,\n",
    "    fixed_params={\n",
    "        \"tr\": 25.0,\n",
    "        \"met\": 1.0,\n",
    "        \"clo\": 0.61,\n",
    "        \"vr\": 0.1,\n",
    "        \"wme\": 0.0,\n",
    "    },\n",
    "    thresholds=[-0.5, 0.5],\n",
    "    t_range=(10, 36),\n",
    "    w_range=(0.0, 0.03),\n",
    ")\n",
    "plt.show()"
   ]
  }
 ],
 "metadata": {
  "kernelspec": {
   "display_name": "Python 3",
   "language": "python",
   "name": "python3"
  },
  "language_info": {
   "codemirror_mode": {
    "name": "ipython",
    "version": 2
   },
   "file_extension": ".py",
   "mimetype": "text/x-python",
   "name": "python",
   "nbconvert_exporter": "python",
   "pygments_lexer": "ipython2",
   "version": "2.7.6"
  }
 },
 "nbformat": 4,
 "nbformat_minor": 5
}
