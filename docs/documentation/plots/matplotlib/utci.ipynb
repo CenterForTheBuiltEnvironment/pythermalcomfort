{
 "cells": [
  {
   "cell_type": "markdown",
   "id": "4210a4833158e0de",
   "metadata": {},
   "source": "# UTCI Plot Example"
  },
  {
   "cell_type": "code",
   "execution_count": null,
   "id": "c1f3c4a99b61495f",
   "metadata": {},
   "outputs": [],
   "source": [
    "# todo implement the plot function for utci"
   ]
  }
 ],
 "metadata": {},
 "nbformat": 4,
 "nbformat_minor": 5
}
