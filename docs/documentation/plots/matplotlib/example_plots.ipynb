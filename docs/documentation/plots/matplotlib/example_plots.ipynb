{
 "cells": [
  {
   "cell_type": "markdown",
   "id": "4210a4833158e0de",
   "metadata": {},
   "source": "# Other plots examples"
  },
  {
   "cell_type": "code",
   "execution_count": null,
   "id": "c1f3c4a99b61495f",
   "metadata": {},
   "outputs": [],
   "source": "# todo implement some examples of nice and useful plots using matplotlib"
  }
 ],
 "metadata": {},
 "nbformat": 4,
 "nbformat_minor": 5
}
