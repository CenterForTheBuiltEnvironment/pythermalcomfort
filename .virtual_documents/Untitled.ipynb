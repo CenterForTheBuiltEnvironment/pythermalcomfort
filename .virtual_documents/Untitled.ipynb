import pythermalcomfort as ptc
print(ptc.__version__)




